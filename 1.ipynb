{
 "cells": [
  {
   "cell_type": "code",
   "execution_count": 1,
   "metadata": {},
   "outputs": [
    {
     "name": "stdout",
     "output_type": "stream",
     "text": [
      "The Zen of Python, by Tim Peters\n",
      "\n",
      "Beautiful is better than ugly.\n",
      "Explicit is better than implicit.\n",
      "Simple is better than complex.\n",
      "Complex is better than complicated.\n",
      "Flat is better than nested.\n",
      "Sparse is better than dense.\n",
      "Readability counts.\n",
      "Special cases aren't special enough to break the rules.\n",
      "Although practicality beats purity.\n",
      "Errors should never pass silently.\n",
      "Unless explicitly silenced.\n",
      "In the face of ambiguity, refuse the temptation to guess.\n",
      "There should be one-- and preferably only one --obvious way to do it.\n",
      "Although that way may not be obvious at first unless you're Dutch.\n",
      "Now is better than never.\n",
      "Although never is often better than *right* now.\n",
      "If the implementation is hard to explain, it's a bad idea.\n",
      "If the implementation is easy to explain, it may be a good idea.\n",
      "Namespaces are one honking great idea -- let's do more of those!\n"
     ]
    }
   ],
   "source": [
    "import this"
   ]
  },
  {
   "cell_type": "code",
   "execution_count": 2,
   "metadata": {},
   "outputs": [
    {
     "name": "stdout",
     "output_type": "stream",
     "text": [
      "Hello World\n"
     ]
    }
   ],
   "source": [
    "print(\"Hello World\")"
   ]
  },
  {
   "cell_type": "code",
   "execution_count": 3,
   "metadata": {},
   "outputs": [
    {
     "name": "stdout",
     "output_type": "stream",
     "text": [
      "True\n"
     ]
    }
   ],
   "source": [
    "if True:\n",
    "  print(\"True\")\n",
    "else:\n",
    "  print(\"False\")"
   ]
  },
  {
   "cell_type": "code",
   "execution_count": 4,
   "metadata": {},
   "outputs": [
    {
     "name": "stdout",
     "output_type": "stream",
     "text": [
      "Answer\n",
      "True\n"
     ]
    }
   ],
   "source": [
    "if True:\n",
    "  print(\"Answer\")\n",
    "  print(\"True\")\n",
    "else:\n",
    "  print(\"Answer\")\n",
    "  print(\"False\")"
   ]
  },
  {
   "cell_type": "code",
   "execution_count": 5,
   "metadata": {},
   "outputs": [
    {
     "name": "stdout",
     "output_type": "stream",
     "text": [
      "6\n"
     ]
    }
   ],
   "source": [
    "item_one=1\n",
    "item_two=2\n",
    "item_three=3\n",
    "total = item_one + \\\n",
    "        item_two + \\\n",
    "        item_three\n",
    "print(total)\n"
   ]
  },
  {
   "cell_type": "code",
   "execution_count": 6,
   "metadata": {},
   "outputs": [
    {
     "name": "stdout",
     "output_type": "stream",
     "text": [
      "['Monday', 'Tuesday', 'Wednesday', 'Thursday', 'Friday']\n"
     ]
    }
   ],
   "source": [
    "days = ['Monday','Tuesday','Wednesday',\n",
    "        'Thursday','Friday']\n",
    "print(days)"
   ]
  },
  {
   "cell_type": "code",
   "execution_count": 7,
   "metadata": {},
   "outputs": [
    {
     "name": "stdout",
     "output_type": "stream",
     "text": [
      "word\n",
      "This is a sentence\n",
      "This is a paragraph. It is\n",
      "made up of multiple lines and sentences.\n"
     ]
    }
   ],
   "source": [
    "word = 'word'\n",
    "print(word)\n",
    "\n",
    "sentence = \"This is a sentence\"\n",
    "print(sentence)\n",
    "\n",
    "paragraph = \"\"\"This is a paragraph. It is\n",
    "made up of multiple lines and sentences.\"\"\"\n",
    "print(paragraph)"
   ]
  },
  {
   "cell_type": "code",
   "execution_count": 8,
   "metadata": {},
   "outputs": [
    {
     "name": "stdout",
     "output_type": "stream",
     "text": [
      "Hello World\n"
     ]
    }
   ],
   "source": [
    "#First comment\n",
    "print(\"Hello World\") #Second comment"
   ]
  },
  {
   "cell_type": "code",
   "execution_count": 9,
   "metadata": {},
   "outputs": [
    {
     "name": "stdout",
     "output_type": "stream",
     "text": [
      "Adding multi-line comments using #\n"
     ]
    }
   ],
   "source": [
    "print(\"Adding multi-line comments using #\")\n",
    "#first comment\n",
    "#second comment"
   ]
  },
  {
   "cell_type": "code",
   "execution_count": 12,
   "metadata": {},
   "outputs": [
    {
     "name": "stdout",
     "output_type": "stream",
     "text": [
      "Adding multi-line comments using '''\n"
     ]
    },
    {
     "data": {
      "text/plain": [
       "'\\nThis is a \\nmulti-line comment. \\n'"
      ]
     },
     "execution_count": 12,
     "metadata": {},
     "output_type": "execute_result"
    }
   ],
   "source": [
    "print(\"Adding multi-line comments using '''\")\n",
    "'''\n",
    "This is a \n",
    "multi-line comment. \n",
    "'''"
   ]
  },
  {
   "cell_type": "code",
   "execution_count": 15,
   "metadata": {},
   "outputs": [
    {
     "name": "stdout",
     "output_type": "stream",
     "text": [
      "foo\n"
     ]
    },
    {
     "data": {
      "text/plain": [
       "4"
      ]
     },
     "execution_count": 15,
     "metadata": {},
     "output_type": "execute_result"
    }
   ],
   "source": [
    "import sys; x=\"foo\"; sys.stdout.write(x+'\\n')"
   ]
  },
  {
   "cell_type": "code",
   "execution_count": 19,
   "metadata": {},
   "outputs": [
    {
     "name": "stdout",
     "output_type": "stream",
     "text": [
      "x is equal to 10\n"
     ]
    }
   ],
   "source": [
    "x=10\n",
    "if(x<10):\n",
    "  print(\"x is lesser than x\")\n",
    "elif(x>10):\n",
    "  print(\"x is greater than 10\")\n",
    "else:\n",
    "  print(\"x is equal to 10\")"
   ]
  },
  {
   "cell_type": "code",
   "execution_count": 22,
   "metadata": {},
   "outputs": [
    {
     "data": {
      "text/plain": [
       "2239302364208"
      ]
     },
     "execution_count": 22,
     "metadata": {},
     "output_type": "execute_result"
    }
   ],
   "source": [
    "id(\"January\") # returns address where the object is stored"
   ]
  },
  {
   "cell_type": "code",
   "execution_count": 23,
   "metadata": {},
   "outputs": [
    {
     "data": {
      "text/plain": [
       "2239254102544"
      ]
     },
     "execution_count": 23,
     "metadata": {},
     "output_type": "execute_result"
    }
   ],
   "source": [
    "id(10)"
   ]
  },
  {
   "cell_type": "code",
   "execution_count": 24,
   "metadata": {},
   "outputs": [
    {
     "data": {
      "text/plain": [
       "2239302364208"
      ]
     },
     "execution_count": 24,
     "metadata": {},
     "output_type": "execute_result"
    }
   ],
   "source": [
    "month=\"January\"\n",
    "id(month)"
   ]
  },
  {
   "cell_type": "code",
   "execution_count": 25,
   "metadata": {},
   "outputs": [
    {
     "data": {
      "text/plain": [
       "2239254102864"
      ]
     },
     "execution_count": 25,
     "metadata": {},
     "output_type": "execute_result"
    }
   ],
   "source": [
    "age=20\n",
    "id(age)"
   ]
  },
  {
   "cell_type": "code",
   "execution_count": 26,
   "metadata": {},
   "outputs": [
    {
     "name": "stdout",
     "output_type": "stream",
     "text": [
      "1\n",
      "1.5\n",
      "Aarzoo Khunger\n"
     ]
    }
   ],
   "source": [
    "counter=1\n",
    "miles=1.5\n",
    "name=\"Aarzoo Khunger\"\n",
    "print(counter)\n",
    "print(miles)\n",
    "print(name)"
   ]
  },
  {
   "cell_type": "code",
   "execution_count": 27,
   "metadata": {},
   "outputs": [
    {
     "name": "stdout",
     "output_type": "stream",
     "text": [
      "10\n"
     ]
    },
    {
     "ename": "NameError",
     "evalue": "name 'var_1' is not defined",
     "output_type": "error",
     "traceback": [
      "\u001b[1;31m---------------------------------------------------------------------------\u001b[0m",
      "\u001b[1;31mNameError\u001b[0m                                 Traceback (most recent call last)",
      "Cell \u001b[1;32mIn[27], line 6\u001b[0m\n\u001b[0;32m      3\u001b[0m \u001b[38;5;28mprint\u001b[39m(var_1)\n\u001b[0;32m      5\u001b[0m \u001b[38;5;28;01mdel\u001b[39;00m var_1\n\u001b[1;32m----> 6\u001b[0m \u001b[38;5;28mprint\u001b[39m(\u001b[43mvar_1\u001b[49m)\n",
      "\u001b[1;31mNameError\u001b[0m: name 'var_1' is not defined"
     ]
    }
   ],
   "source": [
    "# Deleting python variables\n",
    "var_1=10\n",
    "print(var_1)\n",
    "\n",
    "del var_1\n",
    "print(var_1)"
   ]
  },
  {
   "cell_type": "code",
   "execution_count": 28,
   "metadata": {},
   "outputs": [
    {
     "name": "stdout",
     "output_type": "stream",
     "text": [
      "<class 'str'>\n",
      "<class 'int'>\n",
      "<class 'float'>\n"
     ]
    }
   ],
   "source": [
    "x = \"Aarzoo\"\n",
    "print(type(x))\n",
    "\n",
    "y=10\n",
    "print(type(y))\n",
    "\n",
    "z=10.10\n",
    "print(type(z))"
   ]
  },
  {
   "cell_type": "code",
   "execution_count": 29,
   "metadata": {},
   "outputs": [
    {
     "name": "stdout",
     "output_type": "stream",
     "text": [
      "Type of x  <class 'str'>  x= 10\n",
      "Type of y  <class 'int'>  y= 10\n",
      "Type of z  <class 'float'>  z= 10.0\n"
     ]
    }
   ],
   "source": [
    "x = str(10)\n",
    "print(\"Type of x \",type(x),\" x=\",x)\n",
    "y = int(10)\n",
    "print(\"Type of y \",type(y),\" y=\",y)\n",
    "z = float(10)\n",
    "print(\"Type of z \",type(z),\" z=\",z)\n"
   ]
  },
  {
   "cell_type": "code",
   "execution_count": 30,
   "metadata": {},
   "outputs": [
    {
     "name": "stdout",
     "output_type": "stream",
     "text": [
      "Greeting= Hello\n",
      "greeting= Heyyy\n"
     ]
    }
   ],
   "source": [
    "Greeting = \"Hello\"\n",
    "greeting = \"Heyyy\"\n",
    "\n",
    "print(\"Greeting=\",Greeting)\n",
    "print(\"greeting=\",greeting)"
   ]
  },
  {
   "cell_type": "code",
   "execution_count": 31,
   "metadata": {},
   "outputs": [
    {
     "name": "stdout",
     "output_type": "stream",
     "text": [
      "10 10 10\n",
      "20 20 20\n"
     ]
    }
   ],
   "source": [
    "# Assigning the variables with same value\n",
    "a=10\n",
    "b=10\n",
    "c=10\n",
    "print(a,b,c)\n",
    "\n",
    "a=b=c=20\n",
    "print(a,b,c)"
   ]
  },
  {
   "cell_type": "code",
   "execution_count": 32,
   "metadata": {},
   "outputs": [
    {
     "name": "stdout",
     "output_type": "stream",
     "text": [
      "10 20 30\n",
      "40 50 60\n"
     ]
    }
   ],
   "source": [
    "# Assigning the variables with different values\n",
    "a=10\n",
    "b=20\n",
    "c=30\n",
    "print(a,b,c)\n",
    "\n",
    "a,b,c = 40,50,60\n",
    "print(a,b,c)"
   ]
  },
  {
   "cell_type": "code",
   "execution_count": 34,
   "metadata": {},
   "outputs": [
    {
     "name": "stdout",
     "output_type": "stream",
     "text": [
      "Aarzoo\n",
      "1\n",
      "5.05\n"
     ]
    }
   ],
   "source": [
    "# Assigning variables with different kinds of objects\n",
    "a,b,c = \"Aarzoo\",1,5.05\n",
    "\n",
    "print(a)\n",
    "print(b)\n",
    "print(c)"
   ]
  },
  {
   "cell_type": "code",
   "execution_count": 35,
   "metadata": {},
   "outputs": [
    {
     "name": "stdout",
     "output_type": "stream",
     "text": [
      "100 100 Aarzoo Hello\n"
     ]
    }
   ],
   "source": [
    "# Variable naming conventions\n",
    "counter=100\n",
    "_count=100\n",
    "name1 = \"Aarzoo\"\n",
    "greeting_1 = \"Hello\"\n",
    "\n",
    "print(counter,_count,name1,greeting_1)"
   ]
  },
  {
   "cell_type": "code",
   "execution_count": 36,
   "metadata": {},
   "outputs": [
    {
     "ename": "SyntaxError",
     "evalue": "invalid decimal literal (819632508.py, line 2)",
     "output_type": "error",
     "traceback": [
      "\u001b[1;36m  Cell \u001b[1;32mIn[36], line 2\u001b[1;36m\u001b[0m\n\u001b[1;33m    1counter=100\u001b[0m\n\u001b[1;37m    ^\u001b[0m\n\u001b[1;31mSyntaxError\u001b[0m\u001b[1;31m:\u001b[0m invalid decimal literal\n"
     ]
    }
   ],
   "source": [
    "# Invalid variable naming conventions\n",
    "1counter=100\n",
    "$_count=100\n",
    "greeting-1=\"Hello\"\n",
    "\n",
    "print(1counter,$_count,greeting-1)"
   ]
  },
  {
   "cell_type": "code",
   "execution_count": 37,
   "metadata": {},
   "outputs": [
    {
     "name": "stdout",
     "output_type": "stream",
     "text": [
      "Area= 200\n",
      "Perimeter= 60\n"
     ]
    }
   ],
   "source": [
    "width=10; height=20\n",
    "area = width*height\n",
    "print(\"Area=\",area)\n",
    "\n",
    "perimeter=2*(width+height)\n",
    "print(\"Perimeter=\",perimeter)"
   ]
  },
  {
   "cell_type": "code",
   "execution_count": 41,
   "metadata": {},
   "outputs": [
    {
     "name": "stdout",
     "output_type": "stream",
     "text": [
      "25\n"
     ]
    }
   ],
   "source": [
    "def sum(x,y):\n",
    "  sum = x+y\n",
    "  return sum\n",
    "\n",
    "print(sum(10,15))"
   ]
  },
  {
   "cell_type": "code",
   "execution_count": 42,
   "metadata": {},
   "outputs": [
    {
     "name": "stdout",
     "output_type": "stream",
     "text": [
      "15\n"
     ]
    }
   ],
   "source": [
    "x=5;y=10\n",
    "def sum():\n",
    "  return x+y\n",
    "print(sum())"
   ]
  },
  {
   "cell_type": "code",
   "execution_count": 45,
   "metadata": {},
   "outputs": [
    {
     "name": "stdout",
     "output_type": "stream",
     "text": [
      "True\n",
      "2239254102544\n",
      "2239254102544\n"
     ]
    }
   ],
   "source": [
    "a=b=10\n",
    "print(a is b) # prints True if both the variables have same id value\n",
    "\n",
    "print(id(a))\n",
    "print(id(b))"
   ]
  },
  {
   "cell_type": "code",
   "execution_count": null,
   "metadata": {},
   "outputs": [],
   "source": [
    "# Data types"
   ]
  },
  {
   "cell_type": "code",
   "execution_count": 47,
   "metadata": {},
   "outputs": [
    {
     "name": "stdout",
     "output_type": "stream",
     "text": [
      "1 <class 'int'>\n",
      "True <class 'bool'>\n",
      "10.01 <class 'float'>\n",
      "(10+3j) <class 'complex'>\n"
     ]
    }
   ],
   "source": [
    "var1 = 1 #int datatype\n",
    "var2 = True #bool datatype\n",
    "var3 = 10.01 #float datatype\n",
    "var4 = 10 + 3j\n",
    "\n",
    "print(var1,type(var1))\n",
    "print(var2,type(var2))\n",
    "print(var3,type(var3))\n",
    "print(var4,type(var4))"
   ]
  },
  {
   "cell_type": "code",
   "execution_count": 48,
   "metadata": {},
   "outputs": [
    {
     "name": "stdout",
     "output_type": "stream",
     "text": [
      "string-1 <class 'str'>\n",
      "string-1 <class 'str'>\n",
      "string-3 <class 'str'>\n"
     ]
    }
   ],
   "source": [
    "# Strings\n",
    "str1 = \"string-1\"\n",
    "print(str1,type(str1))\n",
    "\n",
    "str2 = 'string-1'\n",
    "print(str2,type(str2))\n",
    "\n",
    "str3 = '''string-3'''\n",
    "print(str3,type(str3))"
   ]
  },
  {
   "cell_type": "code",
   "execution_count": 49,
   "metadata": {},
   "outputs": [
    {
     "name": "stdout",
     "output_type": "stream",
     "text": [
      "Hello World\n",
      "H\n",
      "llo\n",
      "llo World\n",
      "Hello WorldHello World\n",
      "Hello WorldTEST\n"
     ]
    }
   ],
   "source": [
    "str = 'Hello World'\n",
    "\n",
    "print(str)\n",
    "print(str[0])\n",
    "print(str[2:5])\n",
    "print(str[2:])\n",
    "print(str*2)\n",
    "print(str + \"TEST\")"
   ]
  },
  {
   "cell_type": "code",
   "execution_count": 50,
   "metadata": {},
   "outputs": [
    {
     "name": "stdout",
     "output_type": "stream",
     "text": [
      "[2025, 'Python', 10, 10.3, (1+3j)]\n",
      "<class 'list'>\n"
     ]
    }
   ],
   "source": [
    "list1 = [2025,\"Python\",10,10.30,1+3j]\n",
    "print(list1)\n",
    "print(type(list1))"
   ]
  },
  {
   "cell_type": "code",
   "execution_count": 52,
   "metadata": {},
   "outputs": [
    {
     "name": "stdout",
     "output_type": "stream",
     "text": [
      "[['One', 'Two', 'Three'], [1, 2, 3], ['1.0', '2.0', '3.0']]\n"
     ]
    }
   ],
   "source": [
    "# list of list\n",
    "list_of_list = [['One','Two','Three'],[1,2,3],['1.0','2.0','3.0']]\n",
    "\n",
    "print(list_of_list)"
   ]
  },
  {
   "cell_type": "code",
   "execution_count": 53,
   "metadata": {},
   "outputs": [
    {
     "name": "stdout",
     "output_type": "stream",
     "text": [
      "['abcd', 100, 10.01, 'Aarzoo']\n",
      "abcd\n",
      "[100, 10.01]\n",
      "[10.01, 'Aarzoo']\n",
      "[1, 'hello', 1, 'hello']\n",
      "['abcd', 100, 10.01, 'Aarzoo', 1, 'hello']\n"
     ]
    }
   ],
   "source": [
    "list = ['abcd',100,10.01,\"Aarzoo\"]\n",
    "tinylist = [1,'hello']\n",
    "\n",
    "print(list)\n",
    "print(list[0])\n",
    "print(list[1:3])\n",
    "print(list[2:])\n",
    "print(tinylist*2)\n",
    "print(list + tinylist)"
   ]
  },
  {
   "cell_type": "code",
   "execution_count": 59,
   "metadata": {},
   "outputs": [
    {
     "name": "stdout",
     "output_type": "stream",
     "text": [
      "(2025, 'Python', (1+2j), 10.01)\n",
      "<class 'tuple'>\n",
      "\n",
      "\n",
      "(2023, (1+2j), 10.01)\n",
      "<class 'tuple'>\n"
     ]
    }
   ],
   "source": [
    "tuple1 = (2025,\"Python\",1+2j,10.01)\n",
    "print(tuple1)\n",
    "print(type(tuple1))\n",
    "print(\"\\n\")\n",
    "\n",
    "# Creating tuple without using parentheses\n",
    "default_tuple = 2023,1+2j,10.01\n",
    "print(default_tuple)\n",
    "print(type(default_tuple))"
   ]
  },
  {
   "cell_type": "code",
   "execution_count": 60,
   "metadata": {},
   "outputs": [
    {
     "name": "stdout",
     "output_type": "stream",
     "text": [
      "(['One', 'Two', 'Three'], 1, 0.1, (1.0, 'hello'))\n"
     ]
    }
   ],
   "source": [
    "# tuple containing a list and tuple itself\n",
    "tuple1 = (['One','Two','Three'],1,0.1,(1.0,\"hello\"))\n",
    "print(tuple1)"
   ]
  },
  {
   "cell_type": "code",
   "execution_count": 61,
   "metadata": {},
   "outputs": [
    {
     "name": "stdout",
     "output_type": "stream",
     "text": [
      "('abcd', 100, 10.01, 'Aarzoo')\n",
      "abcd\n",
      "(100, 10.01)\n",
      "(10.01, 'Aarzoo')\n",
      "(100, 'Hello', 100, 'Hello')\n",
      "('abcd', 100, 10.01, 'Aarzoo', 100, 'Hello')\n"
     ]
    }
   ],
   "source": [
    "tuple1 = ('abcd',100,10.01,\"Aarzoo\")\n",
    "tiny_tuple = (100,\"Hello\")\n",
    "\n",
    "print(tuple1)\n",
    "print(tuple1[0])\n",
    "print(tuple1[1:3])\n",
    "print(tuple1[2:])\n",
    "print(tiny_tuple*2)\n",
    "print(tuple1+tiny_tuple)"
   ]
  },
  {
   "cell_type": "code",
   "execution_count": 63,
   "metadata": {},
   "outputs": [
    {
     "name": "stdout",
     "output_type": "stream",
     "text": [
      "0\n",
      "1\n",
      "2\n",
      "3\n",
      "4\n",
      "\n",
      "\n",
      "2\n",
      "3\n",
      "4\n",
      "\n",
      "\n",
      "1\n",
      "3\n",
      "\n",
      "\n"
     ]
    }
   ],
   "source": [
    "# Range data-type\n",
    "for i in range(5):\n",
    "  print(i)\n",
    "print(\"\\n\")\n",
    "\n",
    "for i in range(2,5):\n",
    "  print(i)\n",
    "print(\"\\n\")\n",
    "\n",
    "for i in range(1,5,2): # start,stop,step\n",
    "  print(i)\n",
    "print(\"\\n\")\n"
   ]
  },
  {
   "cell_type": "code",
   "execution_count": 64,
   "metadata": {},
   "outputs": [
    {
     "name": "stdout",
     "output_type": "stream",
     "text": [
      "b'ABCD'\n"
     ]
    }
   ],
   "source": [
    "# Binary data-types\n",
    "b1 = bytes([65,66,67,68])\n",
    "print(b1)\n",
    "\n",
    "# b prefix specifies that it is a bytes object"
   ]
  },
  {
   "cell_type": "code",
   "execution_count": 65,
   "metadata": {},
   "outputs": [
    {
     "name": "stdout",
     "output_type": "stream",
     "text": [
      "{1: 'one', 2: 'two', 3: 'three'}\n",
      "<class 'dict'>\n"
     ]
    }
   ],
   "source": [
    "# Dictionary data-type\n",
    "dict1 = {1:\"one\",\n",
    "         2:\"two\",\n",
    "         3:\"three\"}\n",
    "\n",
    "print(dict1)\n",
    "print(type(dict1))"
   ]
  },
  {
   "cell_type": "code",
   "execution_count": 67,
   "metadata": {},
   "outputs": [
    {
     "name": "stdout",
     "output_type": "stream",
     "text": [
      "This is one\n",
      "This is two\n",
      "{'Name': 'Aarzoo', 'Age': 18, 'Deptt': 'CSE'}\n",
      "dict_keys(['Name', 'Age', 'Deptt'])\n",
      "dict_values(['Aarzoo', 18, 'CSE'])\n"
     ]
    }
   ],
   "source": [
    "dict={}\n",
    "dict['one'] = \"This is one\"\n",
    "dict[2] = \"This is two\"\n",
    "\n",
    "tiny_dict = {'Name':'Aarzoo',\n",
    "             'Age':18,\n",
    "             'Deptt':'CSE'}\n",
    "\n",
    "print(dict['one'])\n",
    "print(dict[2])\n",
    "print(tiny_dict)\n",
    "print(tiny_dict.keys())\n",
    "print(tiny_dict.values())"
   ]
  },
  {
   "cell_type": "code",
   "execution_count": 69,
   "metadata": {},
   "outputs": [
    {
     "name": "stdout",
     "output_type": "stream",
     "text": [
      "{2025, 'Aarzoo', (1+2j)}\n",
      "<class 'set'>\n"
     ]
    },
    {
     "ename": "TypeError",
     "evalue": "unhashable type: 'list'",
     "output_type": "error",
     "traceback": [
      "\u001b[1;31m---------------------------------------------------------------------------\u001b[0m",
      "\u001b[1;31mTypeError\u001b[0m                                 Traceback (most recent call last)",
      "Cell \u001b[1;32mIn[69], line 7\u001b[0m\n\u001b[0;32m      4\u001b[0m \u001b[38;5;28mprint\u001b[39m(\u001b[38;5;28mtype\u001b[39m(set1))\n\u001b[0;32m      6\u001b[0m \u001b[38;5;66;03m# Set can only have immutable objects and not mutable objects (list/dictionary)\u001b[39;00m\n\u001b[1;32m----> 7\u001b[0m set2\u001b[38;5;241m=\u001b[39m {[\u001b[38;5;124m'\u001b[39m\u001b[38;5;124mOne\u001b[39m\u001b[38;5;124m'\u001b[39m,\u001b[38;5;124m'\u001b[39m\u001b[38;5;124mTwo\u001b[39m\u001b[38;5;124m'\u001b[39m,\u001b[38;5;124m'\u001b[39m\u001b[38;5;124mThree\u001b[39m\u001b[38;5;124m'\u001b[39m],\u001b[38;5;241m1\u001b[39m,\u001b[38;5;241m10.01\u001b[39m}\n\u001b[0;32m      8\u001b[0m \u001b[38;5;28mprint\u001b[39m(set2)\n",
      "\u001b[1;31mTypeError\u001b[0m: unhashable type: 'list'"
     ]
    }
   ],
   "source": [
    "# Set data-type\n",
    "set1 = {2025,\"Aarzoo\",1+2j}\n",
    "print(set1)\n",
    "print(type(set1))\n",
    "\n",
    "# Set can only have immutable objects and not mutable objects (list/dictionary)\n",
    "set2= {['One','Two','Three'],1,10.01}\n",
    "print(set2)"
   ]
  },
  {
   "cell_type": "code",
   "execution_count": 71,
   "metadata": {},
   "outputs": [
    {
     "name": "stdout",
     "output_type": "stream",
     "text": [
      "<class 'bool'> <class 'bool'>\n"
     ]
    }
   ],
   "source": [
    "# Bool data-types\n",
    "print(type(True),type(False))"
   ]
  },
  {
   "cell_type": "code",
   "execution_count": 74,
   "metadata": {},
   "outputs": [
    {
     "name": "stdout",
     "output_type": "stream",
     "text": [
      "False\n",
      "False\n",
      "False\n",
      "True\n"
     ]
    }
   ],
   "source": [
    "a=2; b=3\n",
    "print(a==b)\n",
    "\n",
    "a=None\n",
    "print(bool(a))\n",
    "\n",
    "a={}\n",
    "print(bool(a))\n",
    "\n",
    "a=10\n",
    "print(bool(a))"
   ]
  },
  {
   "cell_type": "code",
   "execution_count": 1,
   "metadata": {},
   "outputs": [
    {
     "name": "stdout",
     "output_type": "stream",
     "text": [
      "None <class 'NoneType'>\n"
     ]
    }
   ],
   "source": [
    "# None data-type\n",
    "x=None\n",
    "print(x,type(x))"
   ]
  },
  {
   "cell_type": "code",
   "execution_count": null,
   "metadata": {},
   "outputs": [],
   "source": []
  },
  {
   "cell_type": "code",
   "execution_count": 3,
   "metadata": {},
   "outputs": [
    {
     "name": "stdout",
     "output_type": "stream",
     "text": [
      "a : 10 b : 20 a+b : 30\n",
      "a : 10 b : 20 a-b : -10\n",
      "a : 10 b : 20 a*b : 200\n",
      "a : 10 b : 20 a/b : 0.5\n",
      "a : 10 b : 20 a%b : 10\n",
      "a : 2 b : 3 a**b : 8\n",
      "a:10 b:5 a//b:2\n"
     ]
    }
   ],
   "source": [
    "# Arithmetic operators\n",
    "a=10\n",
    "b=20\n",
    "c=5\n",
    "\n",
    "c=a+b\n",
    "print(\"a : {} b : {} a+b : {}\".format(a,b,c))\n",
    "\n",
    "c=a-b\n",
    "print(\"a : {} b : {} a-b : {}\".format(a,b,c))\n",
    "\n",
    "c=a*b\n",
    "print(\"a : {} b : {} a*b : {}\".format(a,b,c))\n",
    "\n",
    "c=a/b\n",
    "print(\"a : {} b : {} a/b : {}\".format(a,b,c))\n",
    "\n",
    "c=a%b\n",
    "print(\"a : {} b : {} a%b : {}\".format(a,b,c))\n",
    "\n",
    "a=2; b=3\n",
    "c=a**b\n",
    "print(\"a : {} b : {} a**b : {}\".format(a,b,c))\n",
    "\n",
    "a=10; b=5\n",
    "c=a//b\n",
    "print(\"a:{} b:{} a//b:{}\".format(a,b,c))\n"
   ]
  },
  {
   "cell_type": "code",
   "execution_count": 4,
   "metadata": {},
   "outputs": [
    {
     "name": "stdout",
     "output_type": "stream",
     "text": [
      "a is not equal to b\n",
      "a is not equal to b\n",
      "a is less than b\n",
      "a is not greater than b\n",
      "a is neither less than nor equal to b\n",
      "b is neither greater than nor eqaul to a\n"
     ]
    }
   ],
   "source": [
    "# Comparison operators\n",
    "a=10\n",
    "b=20\n",
    "if(a==b):\n",
    "  print(\"a is equal to b\")\n",
    "else:\n",
    "  print(\"a is not equal to b\")\n",
    "\n",
    "if(a!=b):\n",
    "  print(\"a is not equal to b\")\n",
    "else:\n",
    "  print(\"a is equal to b\")\n",
    "\n",
    "if(a<b):\n",
    "  print(\"a is less than b\")\n",
    "else:\n",
    "  print(\"a is not less than b\")\n",
    "\n",
    "if(a>b):\n",
    "  print(\"a is greater than b\")\n",
    "else:\n",
    "  print(\"a is not greater than b\")\n",
    "\n",
    "a,b=b,a # Swapping the values of a and b\n",
    "if(a<=b):\n",
    "  print(\"a is either less than or equal to b\")\n",
    "else:\n",
    "  print(\"a is neither less than nor equal to b\")\n",
    "\n",
    "if(b>=a):\n",
    "  print(\"b is either greater than or equal to a\")\n",
    "else:\n",
    "  print(\"b is neither greater than nor eqaul to a\")"
   ]
  },
  {
   "cell_type": "code",
   "execution_count": 5,
   "metadata": {},
   "outputs": [
    {
     "name": "stdout",
     "output_type": "stream",
     "text": [
      "a: 10 b: 20 c : 0\n",
      "a: 10  c = a + b: 30\n",
      "a: 10 c += a: 40\n",
      "a: 10 c *= a: 400\n",
      "a: 10 c /= a : 40.0\n",
      "a: 10 b: 20 c : 2\n",
      "a: 10 c %= a: 2\n",
      "a: 10 c **= a: 1024\n",
      "a: 10 c //= a: 102\n"
     ]
    }
   ],
   "source": [
    "# Assignment operators\n",
    "a=10\n",
    "b=20\n",
    "c=0\n",
    "\n",
    "print (\"a: {} b: {} c : {}\".format(a,b,c))\n",
    "c = a + b\n",
    "print (\"a: {}  c = a + b: {}\".format(a,c))\n",
    "\n",
    "c += a\n",
    "print (\"a: {} c += a: {}\".format(a,c))\n",
    "\n",
    "c *= a\n",
    "print (\"a: {} c *= a: {}\".format(a,c))\n",
    "\n",
    "c /= a \n",
    "print (\"a: {} c /= a : {}\".format(a,c))\n",
    "\n",
    "c  = 2\n",
    "print (\"a: {} b: {} c : {}\".format(a,b,c))\n",
    "c %= a\n",
    "print (\"a: {} c %= a: {}\".format(a,c))\n",
    "\n",
    "c **= a\n",
    "print (\"a: {} c **= a: {}\".format(a,c))\n",
    "\n",
    "c //= a\n",
    "print (\"a: {} c //= a: {}\".format(a,c))\n"
   ]
  },
  {
   "cell_type": "code",
   "execution_count": 6,
   "metadata": {},
   "outputs": [
    {
     "name": "stdout",
     "output_type": "stream",
     "text": [
      "a= 10 : 0b1010 b= 20 : 0b10100\n",
      "a & b =  0 : 0b0\n",
      "a ^ b =  30 : 0b11110\n",
      "a|b= 30 : 0b11110\n",
      "Complement of a is :  -11 : -0b1011\n",
      "left shift of a is: 40 : 0b101000\n",
      "right shift of a is: 2 : 0b10\n"
     ]
    }
   ],
   "source": [
    "# Bitwise operators\n",
    "a=10\n",
    "b=20\n",
    "\n",
    "print('a=',a,':',bin(a),'b=',b,':',bin(b))\n",
    "c=0\n",
    "\n",
    "c=a&b\n",
    "print('a & b = ',c,':',bin(c))\n",
    "\n",
    "c=a^b\n",
    "print('a ^ b = ',c,':',bin(c))\n",
    "\n",
    "c=a|b\n",
    "print('a|b=',c,':',bin(c))\n",
    "\n",
    "c=~a\n",
    "print('Complement of a is : ',c,':',bin(c))\n",
    "\n",
    "c = a << 2;       \n",
    "print (\"left shift of a is:\", c,':',bin(c))\n",
    "\n",
    "c = a >> 2;       \n",
    "print (\"right shift of a is:\", c,':',bin(c))"
   ]
  },
  {
   "cell_type": "code",
   "execution_count": 7,
   "metadata": {},
   "outputs": [
    {
     "name": "stdout",
     "output_type": "stream",
     "text": [
      "True\n",
      "True\n",
      "False\n"
     ]
    }
   ],
   "source": [
    "# Logical operators\n",
    "a=5\n",
    "\n",
    "print(a>3 and a<10)\n",
    "print(a>3 or a<4)\n",
    "print(not(a>3 and a<10))"
   ]
  },
  {
   "cell_type": "code",
   "execution_count": 8,
   "metadata": {},
   "outputs": [
    {
     "name": "stdout",
     "output_type": "stream",
     "text": [
      "True\n",
      "False\n",
      "False\n",
      "True\n"
     ]
    }
   ],
   "source": [
    "# Identity operators\n",
    "a = [1, 2, 3, 4, 5]\n",
    "b = [1, 2, 3, 4, 5]\n",
    "c = a\n",
    "\n",
    "print(a is c)\n",
    "print(a is b)\n",
    "\n",
    "print(a is not c)\n",
    "print(a is not b)"
   ]
  },
  {
   "cell_type": "code",
   "execution_count": 10,
   "metadata": {},
   "outputs": [
    {
     "name": "stdout",
     "output_type": "stream",
     "text": [
      "a: 10 b: 5 list: [1, 2, 3, 4, 5]\n",
      "a is not present in the given list\n",
      "b is present in the given list\n"
     ]
    }
   ],
   "source": [
    "# Membership operators\n",
    "a = 10\n",
    "b = 5\n",
    "list = [1, 2, 3, 4, 5 ]\n",
    "\n",
    "print (\"a:\", a, \"b:\", b, \"list:\", list)\n",
    "\n",
    "if ( a in list ):\n",
    "  print (\"a is present in the given list\")\n",
    "else:\n",
    "  print (\"a is not present in the given list\")\n",
    "\n",
    "if ( b not in list ):\n",
    "  print (\"b is not present in the given list\")\n",
    "else:\n",
    "  print (\"b is present in the given list\")"
   ]
  },
  {
   "cell_type": "code",
   "execution_count": null,
   "metadata": {},
   "outputs": [],
   "source": []
  },
  {
   "cell_type": "code",
   "execution_count": 11,
   "metadata": {},
   "outputs": [
    {
     "name": "stdout",
     "output_type": "stream",
     "text": [
      "a: 10 type: <class 'int'>\n",
      "c: 30 type: <class 'int'>\n"
     ]
    }
   ],
   "source": [
    "a = 10\n",
    "b = 20\n",
    "c = a + b\n",
    "\n",
    "print (\"a:\", a, \"type:\", type(a))\n",
    "print (\"c:\", c, \"type:\", type(c))"
   ]
  },
  {
   "cell_type": "code",
   "execution_count": 12,
   "metadata": {},
   "outputs": [
    {
     "name": "stdout",
     "output_type": "stream",
     "text": [
      "a: 5 type: <class 'int'>\n",
      "b: 43 type: <class 'int'>\n",
      "20 <class 'int'> \t 0b10100 <class 'str'>\n"
     ]
    }
   ],
   "source": [
    "a=0b101 # 0b tells it's a binary number representation\n",
    "print (\"a:\",a, \"type:\",type(a))\n",
    "\n",
    "b=int(\"0b101011\", 2)\n",
    "print (\"b:\",b, \"type:\",type(b))\n",
    "\n",
    "a=20\n",
    "b=bin(a)\n",
    "print(a,type(a),\"\\t\",b,type(b))"
   ]
  },
  {
   "cell_type": "code",
   "execution_count": 13,
   "metadata": {},
   "outputs": [
    {
     "name": "stdout",
     "output_type": "stream",
     "text": [
      "71 <class 'int'>\n",
      "16 <class 'int'>\n",
      "0o107 <class 'str'>\n"
     ]
    }
   ],
   "source": [
    "# Octal numbers - 0O\n",
    "a=0O107\n",
    "print (a, type(a))\n",
    "\n",
    "a=int('20',8)\n",
    "print (a, type(a))\n",
    "\n",
    "a=oct(71)\n",
    "print (a, type(a))"
   ]
  },
  {
   "cell_type": "code",
   "execution_count": 14,
   "metadata": {},
   "outputs": [
    {
     "name": "stdout",
     "output_type": "stream",
     "text": [
      "162 <class 'int'>\n",
      "30 <class 'int'>\n"
     ]
    }
   ],
   "source": [
    "# Hexadecimal numbers\n",
    "a=0XA2\n",
    "print (a, type(a))\n",
    "\n",
    "a=int('0X1e', 16)\n",
    "print (a, type(a))"
   ]
  },
  {
   "cell_type": "code",
   "execution_count": 20,
   "metadata": {},
   "outputs": [
    {
     "name": "stdout",
     "output_type": "stream",
     "text": [
      "(1+2j) <class 'complex'>\n",
      "(3+4j) <class 'complex'>\n",
      "(4+4j) <class 'complex'>\n",
      "(5.3+0j) <class 'complex'>\n"
     ]
    }
   ],
   "source": [
    "# Complex numbers\n",
    "a=1+2j\n",
    "print(a,type(a))\n",
    "\n",
    "b=complex(3,4)\n",
    "print(b,type(b))\n",
    "\n",
    "c=complex(1+2j, 2-3j)\n",
    "print (c, type(c))\n",
    "\n",
    "d=complex(5.3)\n",
    "print (d, type(d))"
   ]
  },
  {
   "cell_type": "code",
   "execution_count": 22,
   "metadata": {},
   "outputs": [
    {
     "name": "stdout",
     "output_type": "stream",
     "text": [
      "pi :  3.141592653589793\n",
      "e :  2.718281828459045\n"
     ]
    }
   ],
   "source": [
    "# Constants\n",
    "import math\n",
    "print(\"pi : \",math.pi)\n",
    "print(\"e : \",math.e)\n"
   ]
  },
  {
   "cell_type": "code",
   "execution_count": 35,
   "metadata": {},
   "outputs": [
    {
     "name": "stdout",
     "output_type": "stream",
     "text": [
      "10.5 Floor :  10\n",
      "10.5 Ceil :  11\n",
      "Factorial of  5  is: 120\n",
      "Absolute of  -5  is: 5\n",
      "Max : 5\n",
      "Min : 4\n",
      "Power:  8\n",
      "Round: 11\n",
      "Sum: 15\n"
     ]
    }
   ],
   "source": [
    "# Math functions\n",
    "a=10.5;b=5;c=-5\n",
    "print(a,\"Floor : \",math.floor(a))\n",
    "print(a,\"Ceil : \",math.ceil(a))\n",
    "print(\"Factorial of \",b,\" is:\",math.factorial(b))\n",
    "\n",
    "# Other functions\n",
    "print(\"Absolute of \",c,\" is:\",abs(c))\n",
    "print(\"Max :\",max(4,5))\n",
    "print(\"Min :\",min(4,5))\n",
    "print(\"Power: \",pow(2,3))\n",
    "print(\"Round:\",round(10.78))\n",
    "print(\"Sum:\",sum({1,2,3,4},5)) # accepts list or tuple, give start value of sum default->0\n"
   ]
  }
 ],
 "metadata": {
  "kernelspec": {
   "display_name": "Python 3",
   "language": "python",
   "name": "python3"
  },
  "language_info": {
   "codemirror_mode": {
    "name": "ipython",
    "version": 3
   },
   "file_extension": ".py",
   "mimetype": "text/x-python",
   "name": "python",
   "nbconvert_exporter": "python",
   "pygments_lexer": "ipython3",
   "version": "3.10.7"
  }
 },
 "nbformat": 4,
 "nbformat_minor": 2
}
