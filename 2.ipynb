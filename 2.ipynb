{
 "cells": [
  {
   "cell_type": "code",
   "execution_count": 1,
   "metadata": {},
   "outputs": [
    {
     "name": "stdout",
     "output_type": "stream",
     "text": [
      "Value of the expression is 100\n",
      "Value of variable is 100\n"
     ]
    }
   ],
   "source": [
    "# if \n",
    "var=100\n",
    "if(var==100): print(\"Value of the expression is 100\")\n",
    "\n",
    "if(var==100):\n",
    "  print(\"Value of variable is 100\")\n",
    "else:\n",
    "  print(\"Value of var is not equal to 100\")"
   ]
  },
  {
   "cell_type": "code",
   "execution_count": 2,
   "metadata": {},
   "outputs": [
    {
     "name": "stdout",
     "output_type": "stream",
     "text": [
      "The number is equal to 100\n",
      "The number is even\n"
     ]
    }
   ],
   "source": [
    "var = 100\n",
    "if(var==100):\n",
    "  print(\"The number is equal to 100\")\n",
    "  if var%2 == 0:\n",
    "    print(\"The number is even\")\n",
    "  else :\n",
    "    print(\"The number is odd\")\n",
    "elif var==0:\n",
    "  print(\"The given number is zero\")\n",
    "else:\n",
    "  print(\"The given number is negative\")"
   ]
  },
  {
   "cell_type": "code",
   "execution_count": 5,
   "metadata": {},
   "outputs": [
    {
     "name": "stdout",
     "output_type": "stream",
     "text": [
      "amount =  1080.0\n",
      "amount =  800\n"
     ]
    }
   ],
   "source": [
    "discount = 0\n",
    "amount = 1200\n",
    "if amount > 1000:\n",
    "   discount = amount * 10 / 100\n",
    "\n",
    "print(\"amount = \", amount - discount)\n",
    "\n",
    "amount = 800\n",
    "discount=0\n",
    "if amount > 1000:\n",
    "   discount = amount * 10 / 100\n",
    "\n",
    "print(\"amount = \", amount - discount)"
   ]
  },
  {
   "cell_type": "code",
   "execution_count": 6,
   "metadata": {},
   "outputs": [
    {
     "name": "stdout",
     "output_type": "stream",
     "text": [
      "Age: 25\n",
      "Eligible to vote\n"
     ]
    }
   ],
   "source": [
    "age = 25\n",
    "print(\"Age:\",age)\n",
    "if age>=18:\n",
    "  print(\"Eligible to vote\")\n",
    "else:\n",
    "  print(\"Not eligible to vote\")"
   ]
  },
  {
   "cell_type": "code",
   "execution_count": 7,
   "metadata": {},
   "outputs": [
    {
     "name": "stdout",
     "output_type": "stream",
     "text": [
      "Amount =  2500\n",
      "Payable amount =  2375.0\n"
     ]
    }
   ],
   "source": [
    "amount = 2500\n",
    "print('Amount = ',amount)\n",
    "if amount > 10000:\n",
    "   discount = amount * 20 / 100\n",
    "else:\n",
    "   if amount > 5000:\n",
    "      discount = amount * 10 / 100\n",
    "   else:\n",
    "      if amount > 1000:\n",
    "         discount = amount * 5 / 100\n",
    "      else:\n",
    "         discount = 0\n",
    "\n",
    "print('Payable amount = ',amount - discount)"
   ]
  },
  {
   "cell_type": "code",
   "execution_count": 8,
   "metadata": {},
   "outputs": [
    {
     "name": "stdout",
     "output_type": "stream",
     "text": [
      "num =  36\n",
      "Divisible by 3 and 2\n"
     ]
    }
   ],
   "source": [
    "num = 36\n",
    "print (\"num = \", num)\n",
    "if num % 2 == 0:\n",
    "   if num % 3 == 0:\n",
    "      print (\"Divisible by 3 and 2\")"
   ]
  },
  {
   "cell_type": "code",
   "execution_count": 9,
   "metadata": {},
   "outputs": [
    {
     "name": "stdout",
     "output_type": "stream",
     "text": [
      "num =  8\n",
      "divisible by 2 not divisible by 3\n"
     ]
    }
   ],
   "source": [
    "num=8\n",
    "print (\"num = \",num)\n",
    "if num%2==0:\n",
    "   if num%3==0:\n",
    "      print (\"Divisible by 3 and 2\")\n",
    "   else:\n",
    "      print (\"divisible by 2 not divisible by 3\")\n",
    "else:\n",
    "   if num%3==0:\n",
    "      print (\"divisible by 3 not divisible by 2\")\n",
    "   else:\n",
    "      print (\"not Divisible by 2 not divisible by 3\")"
   ]
  },
  {
   "cell_type": "code",
   "execution_count": 10,
   "metadata": {},
   "outputs": [
    {
     "name": "stdout",
     "output_type": "stream",
     "text": [
      "\n",
      "Btfl s bttr thn gly.\n",
      "Explct s bttr thn mplct.\n",
      "Smpl s bttr thn cmplx.\n",
      "Cmplx s bttr thn cmplctd.\n"
     ]
    }
   ],
   "source": [
    "zen = '''\n",
    "Beautiful is better than ugly.\n",
    "Explicit is better than implicit.\n",
    "Simple is better than complex.\n",
    "Complex is better than complicated.\n",
    "'''\n",
    "for char in zen:\n",
    "   if char not in 'aeiou':\n",
    "      print (char, end='')"
   ]
  },
  {
   "cell_type": "code",
   "execution_count": 11,
   "metadata": {},
   "outputs": [
    {
     "name": "stdout",
     "output_type": "stream",
     "text": [
      "Total = 539\n"
     ]
    }
   ],
   "source": [
    "numbers = (34,54,67,21,78,97,45,44,80,19)\n",
    "total = 0\n",
    "for num in numbers:\n",
    "   total += num\n",
    "print (\"Total =\", total)"
   ]
  },
  {
   "cell_type": "code",
   "execution_count": 12,
   "metadata": {},
   "outputs": [
    {
     "name": "stdout",
     "output_type": "stream",
     "text": [
      "34\n",
      "54\n",
      "78\n",
      "44\n",
      "80\n"
     ]
    }
   ],
   "source": [
    "numbers = [34,54,67,21,78,97,45,44,80,19]\n",
    "total = 0\n",
    "for num in numbers:\n",
    "   if num%2 == 0:\n",
    "      print (num)"
   ]
  },
  {
   "cell_type": "code",
   "execution_count": 13,
   "metadata": {},
   "outputs": [
    {
     "name": "stdout",
     "output_type": "stream",
     "text": [
      "0 1 2 3 4 \n",
      "10 11 12 13 14 15 16 17 18 19 \n",
      "1 3 5 7 9 "
     ]
    }
   ],
   "source": [
    "for num in range(5):\n",
    "   print (num, end=' ')\n",
    "print()\n",
    "for num in range(10, 20):\n",
    "   print (num, end=' ')\n",
    "print()\n",
    "for num in range(1, 10, 2):\n",
    "   print (num, end=' ')"
   ]
  },
  {
   "cell_type": "code",
   "execution_count": 14,
   "metadata": {},
   "outputs": [
    {
     "name": "stdout",
     "output_type": "stream",
     "text": [
      "10\n",
      "20\n",
      "30\n",
      "40\n"
     ]
    }
   ],
   "source": [
    "numbers = {10:\"Ten\", 20:\"Twenty\", 30:\"Thirty\",40:\"Forty\"}\n",
    "for x in numbers:\n",
    "   print (x)"
   ]
  },
  {
   "cell_type": "code",
   "execution_count": 15,
   "metadata": {},
   "outputs": [
    {
     "name": "stdout",
     "output_type": "stream",
     "text": [
      "10 : Ten\n",
      "20 : Twenty\n",
      "30 : Thirty\n",
      "40 : Forty\n"
     ]
    }
   ],
   "source": [
    "numbers = {10:\"Ten\", 20:\"Twenty\", 30:\"Thirty\",40:\"Forty\"}\n",
    "for x in numbers:\n",
    "   print (x,\":\",numbers[x])"
   ]
  },
  {
   "cell_type": "code",
   "execution_count": 16,
   "metadata": {},
   "outputs": [
    {
     "name": "stdout",
     "output_type": "stream",
     "text": [
      "(10, 'Ten')\n",
      "(20, 'Twenty')\n",
      "(30, 'Thirty')\n",
      "(40, 'Forty')\n"
     ]
    }
   ],
   "source": [
    "numbers = {10:\"Ten\", 20:\"Twenty\", 30:\"Thirty\",40:\"Forty\"}\n",
    "for x in numbers.items():\n",
    "   print (x)"
   ]
  },
  {
   "cell_type": "code",
   "execution_count": 18,
   "metadata": {},
   "outputs": [
    {
     "name": "stdout",
     "output_type": "stream",
     "text": [
      "10 equals 2 * 5\n",
      "11 is a prime number\n",
      "12 equals 2 * 6\n",
      "13 is a prime number\n",
      "14 equals 2 * 7\n",
      "15 is a prime number\n",
      "16 equals 2 * 8\n",
      "17 is a prime number\n",
      "18 equals 2 * 9\n",
      "19 is a prime number\n"
     ]
    }
   ],
   "source": [
    "for num in range(10, 20):   \n",
    "  for i in range(2,num): \n",
    "      if num%i == 0:      \n",
    "        j=num/i          \n",
    "        print (\"%d equals %d * %d\" % (num,i,j))\n",
    "        break \n",
    "      else:                  \n",
    "        print (num, \"is a prime number\")\n",
    "        break"
   ]
  },
  {
   "cell_type": "code",
   "execution_count": 19,
   "metadata": {},
   "outputs": [
    {
     "name": "stdout",
     "output_type": "stream",
     "text": [
      "Iteration no. 0\n",
      "Iteration no. 1\n",
      "Iteration no. 2\n",
      "Iteration no. 3\n",
      "Iteration no. 4\n",
      "Iteration no. 5\n",
      "for loop over. Now in else block\n",
      "End of for loop\n"
     ]
    }
   ],
   "source": [
    "for count in range(6):\n",
    "   print (\"Iteration no. {}\".format(count))\n",
    "else:\n",
    "   print (\"for loop over. Now in else block\")\n",
    "print (\"End of for loop\")"
   ]
  },
  {
   "cell_type": "code",
   "execution_count": 20,
   "metadata": {},
   "outputs": [
    {
     "name": "stdout",
     "output_type": "stream",
     "text": [
      "T\n",
      "P\n",
      "ForLoop-else statement successfully executed\n"
     ]
    }
   ],
   "source": [
    "for i in ['T','P']:\n",
    "  print(i)\n",
    "else:\n",
    "  print(\"ForLoop-else statement successfully executed\")"
   ]
  },
  {
   "cell_type": "code",
   "execution_count": 22,
   "metadata": {},
   "outputs": [
    {
     "name": "stdout",
     "output_type": "stream",
     "text": [
      "Positive number\n",
      "Positive number\n",
      "Positive number\n",
      "Loop-else Executed\n"
     ]
    }
   ],
   "source": [
    "# for-else loops\n",
    "def positive_or_negative():\n",
    "   for i in [5,6,7]:\n",
    "      if i>=0:\n",
    "        print (\"Positive number\")\n",
    "      else:\n",
    "        print (\"Negative number\")\n",
    "        break\n",
    "   else:\n",
    "      print (\"Loop-else Executed\")\n",
    "positive_or_negative()"
   ]
  },
  {
   "cell_type": "code",
   "execution_count": 23,
   "metadata": {},
   "outputs": [
    {
     "name": "stdout",
     "output_type": "stream",
     "text": [
      "Iteration no. 1\n",
      "Iteration no. 2\n",
      "Iteration no. 3\n",
      "Iteration no. 4\n",
      "Iteration no. 5\n",
      "End of while loop\n"
     ]
    }
   ],
   "source": [
    "count=0\n",
    "while count<5:\n",
    "   count+=1\n",
    "   print (\"Iteration no. {}\".format(count))\n",
    "print (\"End of while loop\")"
   ]
  },
  {
   "cell_type": "code",
   "execution_count": 24,
   "metadata": {},
   "outputs": [
    {
     "name": "stdout",
     "output_type": "stream",
     "text": [
      "End of while loop\n"
     ]
    }
   ],
   "source": [
    "var = '0'\n",
    "while var.isnumeric() == True:\n",
    "   var = \"test\"\n",
    "   if var.isnumeric() == True:\n",
    "      print (\"Your input\", var)\n",
    "print (\"End of while loop\")"
   ]
  },
  {
   "cell_type": "code",
   "execution_count": 25,
   "metadata": {},
   "outputs": [
    {
     "name": "stdout",
     "output_type": "stream",
     "text": [
      "You entered:  20\n",
      "You entered:  40\n"
     ]
    },
    {
     "ename": "ValueError",
     "evalue": "invalid literal for int() with base 10: ''",
     "output_type": "error",
     "traceback": [
      "\u001b[1;31m---------------------------------------------------------------------------\u001b[0m",
      "\u001b[1;31mValueError\u001b[0m                                Traceback (most recent call last)",
      "Cell \u001b[1;32mIn[25], line 3\u001b[0m\n\u001b[0;32m      1\u001b[0m var \u001b[38;5;241m=\u001b[39m \u001b[38;5;241m1\u001b[39m\n\u001b[0;32m      2\u001b[0m \u001b[38;5;28;01mwhile\u001b[39;00m var \u001b[38;5;241m==\u001b[39m \u001b[38;5;241m1\u001b[39m : \u001b[38;5;66;03m# This constructs an infinite loop\u001b[39;00m\n\u001b[1;32m----> 3\u001b[0m    num \u001b[38;5;241m=\u001b[39m \u001b[38;5;28;43mint\u001b[39;49m\u001b[43m(\u001b[49m\u001b[38;5;28;43minput\u001b[39;49m\u001b[43m(\u001b[49m\u001b[38;5;124;43m\"\u001b[39;49m\u001b[38;5;124;43mEnter a number :\u001b[39;49m\u001b[38;5;124;43m\"\u001b[39;49m\u001b[43m)\u001b[49m\u001b[43m)\u001b[49m\n\u001b[0;32m      4\u001b[0m    \u001b[38;5;28mprint\u001b[39m (\u001b[38;5;124m\"\u001b[39m\u001b[38;5;124mYou entered: \u001b[39m\u001b[38;5;124m\"\u001b[39m, num)\n\u001b[0;32m      5\u001b[0m \u001b[38;5;28mprint\u001b[39m (\u001b[38;5;124m\"\u001b[39m\u001b[38;5;124mGood bye!\u001b[39m\u001b[38;5;124m\"\u001b[39m)\n",
      "\u001b[1;31mValueError\u001b[0m: invalid literal for int() with base 10: ''"
     ]
    }
   ],
   "source": [
    "var = 1\n",
    "while var == 1 : # This constructs an infinite loop\n",
    "   num = int(input(\"Enter a number :\"))\n",
    "   print (\"You entered: \", num)\n",
    "print (\"Good bye!\")"
   ]
  },
  {
   "cell_type": "code",
   "execution_count": 26,
   "metadata": {},
   "outputs": [
    {
     "name": "stdout",
     "output_type": "stream",
     "text": [
      "Iteration no. 1\n",
      "Iteration no. 2\n",
      "Iteration no. 3\n",
      "Iteration no. 4\n",
      "Iteration no. 5\n",
      "While loop over. Now in else block\n",
      "End of while loop\n"
     ]
    }
   ],
   "source": [
    "# while-else loop\n",
    "count=0\n",
    "while count<5:\n",
    "   count+=1\n",
    "   print (\"Iteration no. {}\".format(count))\n",
    "else:\n",
    "   print (\"While loop over. Now in else block\")\n",
    "print (\"End of while loop\")"
   ]
  },
  {
   "cell_type": "code",
   "execution_count": 27,
   "metadata": {},
   "outputs": [
    {
     "name": "stdout",
     "output_type": "stream",
     "text": [
      "End of execution\n"
     ]
    }
   ],
   "source": [
    "flag = 0\n",
    "while (flag): print (\"Given flag is true!\")\n",
    "print (\"End of execution\")"
   ]
  },
  {
   "cell_type": "code",
   "execution_count": 28,
   "metadata": {},
   "outputs": [
    {
     "name": "stdout",
     "output_type": "stream",
     "text": [
      "Current Letter : P\n",
      "Current Letter : y\n",
      "Current Letter : t\n",
      "End of execution\n"
     ]
    }
   ],
   "source": [
    "for letter in 'Python':    \n",
    "   if letter == 'h':\n",
    "      break\n",
    "   print (\"Current Letter :\", letter)\n",
    "print (\"End of execution\")"
   ]
  },
  {
   "cell_type": "code",
   "execution_count": 29,
   "metadata": {},
   "outputs": [
    {
     "name": "stdout",
     "output_type": "stream",
     "text": [
      "Current variable value : 10\n",
      "Current variable value : 9\n",
      "Current variable value : 8\n",
      "Current variable value : 7\n",
      "Current variable value : 6\n",
      "End of execution\n"
     ]
    }
   ],
   "source": [
    "# break statement and while loop\n",
    "var = 10                   \n",
    "while var > 0:              \n",
    "   print ('Current variable value :', var)\n",
    "   var = var -1\n",
    "   if var == 5:\n",
    "      break\n",
    "print (\"End of execution\")"
   ]
  },
  {
   "cell_type": "code",
   "execution_count": 30,
   "metadata": {},
   "outputs": [
    {
     "name": "stdout",
     "output_type": "stream",
     "text": [
      "number found in list\n"
     ]
    }
   ],
   "source": [
    "no = 33\n",
    "numbers = [11,33,55,39,55,75,37,21,23,41,13]\n",
    "for num in numbers:\n",
    "   if num == no:\n",
    "      print ('number found in list')\n",
    "      break\n",
    "else:\n",
    "   print ('number not found in list')"
   ]
  },
  {
   "cell_type": "code",
   "execution_count": null,
   "metadata": {},
   "outputs": [],
   "source": [
    "# Strings"
   ]
  },
  {
   "cell_type": "code",
   "execution_count": 31,
   "metadata": {},
   "outputs": [
    {
     "name": "stdout",
     "output_type": "stream",
     "text": [
      "var1[0]:  H\n",
      "var2[1:5]:  ytho\n"
     ]
    }
   ],
   "source": [
    "var1 = 'Hello World!'\n",
    "var2 = \"Python Programming\"\n",
    "\n",
    "print (\"var1[0]: \", var1[0])\n",
    "print (\"var2[1:5]: \", var2[1:5])"
   ]
  },
  {
   "cell_type": "code",
   "execution_count": 32,
   "metadata": {},
   "outputs": [
    {
     "name": "stdout",
     "output_type": "stream",
     "text": [
      "Updated String :-  Hello Python\n"
     ]
    }
   ],
   "source": [
    "var1 = 'Hello World!'\n",
    "print (\"Updated String :- \", var1[:6] + 'Python')"
   ]
  },
  {
   "cell_type": "code",
   "execution_count": 34,
   "metadata": {},
   "outputs": [
    {
     "name": "stdout",
     "output_type": "stream",
     "text": [
      "My name is Aarzoo and weight is 47 kg!\n"
     ]
    }
   ],
   "source": [
    "print (\"My name is %s and weight is %d kg!\" % ('Aarzoo', 47)) "
   ]
  },
  {
   "cell_type": "code",
   "execution_count": 36,
   "metadata": {},
   "outputs": [
    {
     "name": "stdout",
     "output_type": "stream",
     "text": [
      "var: Learning Python\n",
      "var: Learning Python's Strings\n",
      "var: Learning Python-2\n",
      "var: Learning Python-3\n"
     ]
    }
   ],
   "source": [
    "var = 'Learning Python'\n",
    "print (\"var:\", var)\n",
    "\n",
    "var = \"Learning Python's Strings\"\n",
    "print (\"var:\", var)\n",
    "\n",
    "var = '''Learning Python-2'''\n",
    "print (\"var:\", var)\n",
    "\n",
    "var = \"\"\"Learning Python-3\"\"\"\n",
    "print (\"var:\", var)"
   ]
  },
  {
   "cell_type": "code",
   "execution_count": 37,
   "metadata": {},
   "outputs": [
    {
     "name": "stdout",
     "output_type": "stream",
     "text": [
      "var: \n",
      "Hello Python\n",
      "\n"
     ]
    }
   ],
   "source": [
    "var = '''\n",
    "Hello Python\n",
    "'''\n",
    "print (\"var:\", var)"
   ]
  },
  {
   "cell_type": "code",
   "execution_count": 38,
   "metadata": {},
   "outputs": [
    {
     "name": "stdout",
     "output_type": "stream",
     "text": [
      "<class 'str'>\n"
     ]
    }
   ],
   "source": [
    "var = \"Hello Python\"\n",
    "print (type(var))"
   ]
  },
  {
   "cell_type": "code",
   "execution_count": 39,
   "metadata": {},
   "outputs": [
    {
     "name": "stdout",
     "output_type": "stream",
     "text": [
      "H\n",
      "Y\n",
      "N\n"
     ]
    },
    {
     "ename": "IndexError",
     "evalue": "string index out of range",
     "output_type": "error",
     "traceback": [
      "\u001b[1;31m---------------------------------------------------------------------------\u001b[0m",
      "\u001b[1;31mIndexError\u001b[0m                                Traceback (most recent call last)",
      "Cell \u001b[1;32mIn[39], line 5\u001b[0m\n\u001b[0;32m      3\u001b[0m \u001b[38;5;28mprint\u001b[39m(var[\u001b[38;5;241m7\u001b[39m])  \n\u001b[0;32m      4\u001b[0m \u001b[38;5;28mprint\u001b[39m(var[\u001b[38;5;241m11\u001b[39m])  \n\u001b[1;32m----> 5\u001b[0m \u001b[38;5;28mprint\u001b[39m(\u001b[43mvar\u001b[49m\u001b[43m[\u001b[49m\u001b[38;5;241;43m12\u001b[39;49m\u001b[43m]\u001b[49m) \n",
      "\u001b[1;31mIndexError\u001b[0m: string index out of range"
     ]
    }
   ],
   "source": [
    "var = \"HELLO PYTHON\"\n",
    "print(var[0]) \n",
    "print(var[7])  \n",
    "print(var[11])  \n",
    "print(var[12]) "
   ]
  },
  {
   "cell_type": "code",
   "execution_count": 40,
   "metadata": {},
   "outputs": [
    {
     "name": "stdout",
     "output_type": "stream",
     "text": [
      "N\n",
      "Y\n",
      "H\n"
     ]
    }
   ],
   "source": [
    "var = \"HELLO PYTHON\"\n",
    "print(var[-1]) \n",
    "print(var[-5])  \n",
    "print(var[-12])  "
   ]
  },
  {
   "cell_type": "code",
   "execution_count": 41,
   "metadata": {},
   "outputs": [
    {
     "ename": "TypeError",
     "evalue": "'str' object does not support item assignment",
     "output_type": "error",
     "traceback": [
      "\u001b[1;31m---------------------------------------------------------------------------\u001b[0m",
      "\u001b[1;31mTypeError\u001b[0m                                 Traceback (most recent call last)",
      "Cell \u001b[1;32mIn[41], line 3\u001b[0m\n\u001b[0;32m      1\u001b[0m \u001b[38;5;66;03m# Strings are immutable\u001b[39;00m\n\u001b[0;32m      2\u001b[0m var\u001b[38;5;241m=\u001b[39m\u001b[38;5;124m\"\u001b[39m\u001b[38;5;124mHELLO PYTHON\u001b[39m\u001b[38;5;124m\"\u001b[39m\n\u001b[1;32m----> 3\u001b[0m \u001b[43mvar\u001b[49m\u001b[43m[\u001b[49m\u001b[38;5;241;43m7\u001b[39;49m\u001b[43m]\u001b[49m\u001b[38;5;241m=\u001b[39m\u001b[38;5;124m\"\u001b[39m\u001b[38;5;124my\u001b[39m\u001b[38;5;124m\"\u001b[39m\n\u001b[0;32m      4\u001b[0m \u001b[38;5;28mprint\u001b[39m (var)\n",
      "\u001b[1;31mTypeError\u001b[0m: 'str' object does not support item assignment"
     ]
    }
   ],
   "source": [
    "# Strings are immutable\n",
    "var=\"HELLO PYTHON\"\n",
    "var[7]=\"y\"\n",
    "print (var)"
   ]
  },
  {
   "cell_type": "code",
   "execution_count": 42,
   "metadata": {},
   "outputs": [
    {
     "name": "stdout",
     "output_type": "stream",
     "text": [
      "var: HELLO PYTHON\n",
      "var[3:8]: LO PY\n"
     ]
    }
   ],
   "source": [
    "var=\"HELLO PYTHON\"\n",
    "\n",
    "print (\"var:\",var)\n",
    "print (\"var[3:8]:\", var[3:8])"
   ]
  },
  {
   "cell_type": "code",
   "execution_count": 43,
   "metadata": {},
   "outputs": [
    {
     "name": "stdout",
     "output_type": "stream",
     "text": [
      "var: HELLO PYTHON\n",
      "var[3:8]: LO PY\n",
      "var[-9:-4]: LO PY\n"
     ]
    }
   ],
   "source": [
    "var=\"HELLO PYTHON\"\n",
    "print (\"var:\",var)\n",
    "print (\"var[3:8]:\", var[3:8])\n",
    "print (\"var[-9:-4]:\", var[-9:-4])"
   ]
  },
  {
   "cell_type": "code",
   "execution_count": 46,
   "metadata": {},
   "outputs": [
    {
     "name": "stdout",
     "output_type": "stream",
     "text": [
      "var: HELLO PYTHON\n",
      "var[0:5]: HELLO\n",
      "var[:5]: HELLO\n",
      "var: HELLO PYTHON\n",
      "var[6:12]: PYTHON\n",
      "var[6:]: PYTHON\n",
      "var: HELLO PYTHON\n",
      "var[-1:7]: \n",
      "var[7:0]: \n"
     ]
    }
   ],
   "source": [
    "var=\"HELLO PYTHON\"\n",
    "print (\"var:\",var)\n",
    "print (\"var[0:5]:\", var[0:5])\n",
    "print (\"var[:5]:\", var[:5])\n",
    "print (\"var:\",var)\n",
    "print (\"var[6:12]:\", var[6:12])\n",
    "print (\"var[6:]:\", var[6:])\n",
    "print (\"var:\",var)\n",
    "print (\"var[-1:7]:\", var[-1:7])\n",
    "print (\"var[7:0]:\", var[7:0])"
   ]
  },
  {
   "cell_type": "code",
   "execution_count": 47,
   "metadata": {},
   "outputs": [
    {
     "name": "stdout",
     "output_type": "stream",
     "text": [
      "var: HELLO PYTHON\n",
      "var[:6][:2]: HE\n",
      "slice: HELLO \n",
      "var1[:2]: HE\n"
     ]
    }
   ],
   "source": [
    "var=\"HELLO PYTHON\"\n",
    "\n",
    "print (\"var:\",var)\n",
    "print (\"var[:6][:2]:\", var[:6][:2])\n",
    "\n",
    "var1=var[:6]\n",
    "print (\"slice:\", var1)\n",
    "print (\"var1[:2]:\", var1[:2])"
   ]
  },
  {
   "cell_type": "code",
   "execution_count": 48,
   "metadata": {},
   "outputs": [
    {
     "name": "stdout",
     "output_type": "stream",
     "text": [
      "original string: WORD\n",
      "['W', 'O', 'R', 'L', 'D']\n",
      "Modified string: WORLD\n"
     ]
    }
   ],
   "source": [
    "s1=\"WORD\"\n",
    "print (\"original string:\", s1)\n",
    "l1=list(s1)\n",
    "l1.insert(3,\"L\")\n",
    "print (l1)\n",
    "s1=''.join(l1)\n",
    "print (\"Modified string:\", s1)"
   ]
  },
  {
   "cell_type": "code",
   "execution_count": 49,
   "metadata": {},
   "outputs": [
    {
     "name": "stdout",
     "output_type": "stream",
     "text": [
      "original string: WORD\n",
      "Modified string: WORLD\n"
     ]
    }
   ],
   "source": [
    "import array as ar\n",
    "s1=\"WORD\"\n",
    "print (\"original string:\", s1)\n",
    "sar=ar.array('u', s1)\n",
    "sar.insert(3,\"L\")\n",
    "s1=sar.tounicode()\n",
    "print (\"Modified string:\", s1)"
   ]
  },
  {
   "cell_type": "code",
   "execution_count": 50,
   "metadata": {},
   "outputs": [
    {
     "name": "stdout",
     "output_type": "stream",
     "text": [
      "original string: WORD\n",
      "Modified string: WORLD\n"
     ]
    }
   ],
   "source": [
    "import io\n",
    "\n",
    "s1=\"WORD\"\n",
    "print (\"original string:\", s1)\n",
    "\n",
    "sio=io.StringIO(s1)\n",
    "sio.seek(3)\n",
    "sio.write(\"LD\")\n",
    "s1=sio.getvalue()\n",
    "\n",
    "print (\"Modified string:\", s1)"
   ]
  },
  {
   "cell_type": "code",
   "execution_count": 52,
   "metadata": {},
   "outputs": [
    {
     "name": "stdout",
     "output_type": "stream",
     "text": [
      "String 1: Hello\n",
      "String 2: World\n",
      "After concatenating:-  HelloWorld\n"
     ]
    }
   ],
   "source": [
    "str1=\"Hello\"\n",
    "str2=\"World\"\n",
    "print (\"String 1:\",str1)\n",
    "print (\"String 2:\",str2)\n",
    "str3=str1+str2\n",
    "print(\"After concatenating:- \",str3)"
   ]
  },
  {
   "cell_type": "code",
   "execution_count": 53,
   "metadata": {},
   "outputs": [
    {
     "name": "stdout",
     "output_type": "stream",
     "text": [
      "String 1: Hello\n",
      "String 2: World\n",
      "After concatenating :-  Hello World\n"
     ]
    }
   ],
   "source": [
    "str1=\"Hello\"\n",
    "str2=\"World\"\n",
    "blank=\" \"\n",
    "print (\"String 1:\",str1)\n",
    "print (\"String 2:\",str2)\n",
    "str3=str1+blank+str2\n",
    "print(\"After concatenating :- \",str3)"
   ]
  },
  {
   "cell_type": "code",
   "execution_count": 54,
   "metadata": {},
   "outputs": [
    {
     "name": "stdout",
     "output_type": "stream",
     "text": [
      "HelloHelloHello\n"
     ]
    }
   ],
   "source": [
    "# Concatenating using multiplication\n",
    "newString = \"Hello\" * 3\n",
    "print(newString)"
   ]
  },
  {
   "cell_type": "code",
   "execution_count": 55,
   "metadata": {},
   "outputs": [
    {
     "name": "stdout",
     "output_type": "stream",
     "text": [
      "String 1: Hello\n",
      "String 2: World\n",
      "String 3: HelloWorldWorldWorld\n",
      "String 4: HelloWorldHelloWorldHelloWorld\n"
     ]
    }
   ],
   "source": [
    "# Concatenating using '+' and '*'\n",
    "str1=\"Hello\"\n",
    "str2=\"World\"\n",
    "print (\"String 1:\",str1)\n",
    "print (\"String 2:\",str2)\n",
    "str3=str1+str2*3\n",
    "print(\"String 3:\",str3)\n",
    "str4=(str1+str2)*3\n",
    "print (\"String 4:\", str4)"
   ]
  },
  {
   "cell_type": "code",
   "execution_count": 56,
   "metadata": {},
   "outputs": [
    {
     "name": "stdout",
     "output_type": "stream",
     "text": [
      "Welcome to Hello Python!\n"
     ]
    }
   ],
   "source": [
    "name = \"Hello Python\"\n",
    "print(\"Welcome to %s!\" % name)"
   ]
  },
  {
   "cell_type": "code",
   "execution_count": 57,
   "metadata": {},
   "outputs": [
    {
     "name": "stdout",
     "output_type": "stream",
     "text": [
      "Welcome to Python Learning\n"
     ]
    }
   ],
   "source": [
    "str = \"Welcome to {}\"\n",
    "print(str.format(\"Python Learning\"))"
   ]
  },
  {
   "cell_type": "code",
   "execution_count": 58,
   "metadata": {},
   "outputs": [
    {
     "name": "stdout",
     "output_type": "stream",
     "text": [
      "Total: 2800\n"
     ]
    }
   ],
   "source": [
    "item1_price = 2500\n",
    "item2_price = 300\n",
    "total = f'Total: {item1_price + item2_price}'\n",
    "print(total)"
   ]
  },
  {
   "cell_type": "code",
   "execution_count": null,
   "metadata": {},
   "outputs": [],
   "source": []
  }
 ],
 "metadata": {
  "kernelspec": {
   "display_name": "Python 3",
   "language": "python",
   "name": "python3"
  },
  "language_info": {
   "codemirror_mode": {
    "name": "ipython",
    "version": 3
   },
   "file_extension": ".py",
   "mimetype": "text/x-python",
   "name": "python",
   "nbconvert_exporter": "python",
   "pygments_lexer": "ipython3",
   "version": "3.10.7"
  }
 },
 "nbformat": 4,
 "nbformat_minor": 2
}
